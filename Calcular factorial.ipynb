{
 "cells": [
  {
   "cell_type": "code",
   "execution_count": 3,
   "id": "a354c65f-c8a7-4ba8-9f10-4e2e6422d568",
   "metadata": {},
   "outputs": [
    {
     "name": "stdout",
     "output_type": "stream",
     "text": [
      "720\n",
      "El factorial de 4 es 24\n",
      "El factorial de 5 es 120\n",
      "El factorial de 6 es 720\n",
      "El factorial de 7 es 5040\n"
     ]
    }
   ],
   "source": [
    "#Primer proyecto \n",
    "cadena=input (\"Dame un numero positivo:\")\n",
    "\n",
    "def calcula_factorial(n):\n",
    "    # Verifica si n es una cadena\n",
    "    if isinstance(n, str):\n",
    "        return \"Error: Se recibió una cadena, se esperaba un número.\"\n",
    "\n",
    "    # Convierte n a un entero positivo si es decimal o negativo\n",
    "    n = abs(int(n))\n",
    "    \n",
    "    # Caso base: el factorial de 0 o 1 es 1\n",
    "    if n == 0 or n == 1:\n",
    "        return 1\n",
    "    # Caso recursivo: n! = n * (n-1)!\n",
    "    else:\n",
    "        return n * calcula_factorial(n - 1)\n",
    "\n",
    "\n",
    "\n",
    "n=int(cadena)\n",
    "factorial=calcula_factorial(n)\n",
    "print(factorial)\n",
    "\n",
    "numeros = [4, 5, 6, 7]\n",
    "\n",
    "# Imprimir los números\n",
    "for numero in numeros:\n",
    "    print(f\"El factorial de {numero} es\", calcula_factorial(numero))"
   ]
  },
  {
   "cell_type": "code",
   "execution_count": null,
   "id": "391f1000-02bd-4152-868c-0802f9b58fef",
   "metadata": {},
   "outputs": [],
   "source": []
  }
 ],
 "metadata": {
  "kernelspec": {
   "display_name": "Python 3",
   "language": "python",
   "name": "python3"
  },
  "language_info": {
   "codemirror_mode": {
    "name": "ipython",
    "version": 3
   },
   "file_extension": ".py",
   "mimetype": "text/x-python",
   "name": "python",
   "nbconvert_exporter": "python",
   "pygments_lexer": "ipython3",
   "version": "3.10.4"
  }
 },
 "nbformat": 4,
 "nbformat_minor": 5
}
